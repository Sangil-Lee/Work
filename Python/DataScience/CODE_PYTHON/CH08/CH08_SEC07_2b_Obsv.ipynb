{
 "cells": [
  {
   "cell_type": "code",
   "execution_count": 1,
   "metadata": {},
   "outputs": [],
   "source": [
    "import numpy as np\n",
    "import matplotlib.pyplot as plt\n",
    "from matplotlib import rcParams\n",
    "from control.matlab import *\n",
    "import slycot\n",
    "from scipy import integrate\n",
    "from scipy.linalg import schur\n",
    "# Python control toolbox available at https://python-control.readthedocs.io/\n",
    "\n",
    "plt.rcParams['figure.figsize'] = [8, 8]\n",
    "plt.rcParams.update({'font.size': 18})"
   ]
  },
  {
   "cell_type": "code",
   "execution_count": 13,
   "metadata": {},
   "outputs": [
    {
     "name": "stdout",
     "output_type": "stream",
     "text": [
      "Observability matrix:\n",
      "[[ 0.    0.    1.    0.  ]\n",
      " [ 0.    0.    0.    1.  ]\n",
      " [ 0.    0.1  -6.    0.  ]\n",
      " [ 0.   -0.02  0.2  -6.  ]]\n",
      "Observability matrix determinant: 0.0\n"
     ]
    }
   ],
   "source": [
    "m = 1\n",
    "M = 5\n",
    "L = 2\n",
    "g = -10\n",
    "d = 1\n",
    "\n",
    "b = -1 # pendulum down (b = -1)\n",
    "\n",
    "A = np.array([[0,1,0,0],\\\n",
    "              [0,-d/M,b*m*g/M,0],\\\n",
    "              [0,0,0,1],\\\n",
    "              [0,-b*d/(M*L),-b*(m+M)*g/(M*L),0]])\n",
    "\n",
    "B = np.array([0,1/M,0,b/(M*L)]).reshape((4,1))\n",
    "\n",
    "C = np.array([0,0,1,0]) # only observable if x measured... because x can't be\n",
    "\n",
    "print('Observability matrix:\\n{}'.format(obsv(A,C)))\n",
    "print('Observability matrix determinant: {}'.format(np.linalg.det(obsv(A,C))))\n"
   ]
  },
  {
   "cell_type": "code",
   "execution_count": 23,
   "metadata": {},
   "outputs": [
    {
     "name": "stdout",
     "output_type": "stream",
     "text": [
      "Observability matrix:\n",
      "[[ 0.   1.   0. ]\n",
      " [ 0.   0.   1. ]\n",
      " [ 0.1 -6.   0. ]]\n",
      "Gramian determinant: 0.031250000000001\n"
     ]
    }
   ],
   "source": [
    "## Which measurements are best if we omit \"x\"\n",
    "Ah = A[1:,1:]\n",
    "Bh = B[1:]\n",
    "# Ch = np.array([1,0,0])\n",
    "Ch = np.array([0,1,0])\n",
    "# Ch = np.array([0,0,1])\n",
    "\n",
    "print('Observability matrix:\\n{}'.format(obsv(Ah,Ch)))\n",
    "\n",
    "Ch = Ch.reshape((1,len(Ch)))\n",
    "Dh = np.zeros((Ch.shape[0],Bh.shape[1]))\n",
    "sys = ss(Ah,Bh,Ch,Dh)\n",
    "print('Gramian determinant: {}'.format(np.linalg.det(gram(sys,'o'))))\n"
   ]
  },
  {
   "cell_type": "code",
   "execution_count": null,
   "metadata": {},
   "outputs": [],
   "source": []
  }
 ],
 "metadata": {
  "kernelspec": {
   "display_name": "Python 3",
   "language": "python",
   "name": "python3"
  },
  "language_info": {
   "codemirror_mode": {
    "name": "ipython",
    "version": 3
   },
   "file_extension": ".py",
   "mimetype": "text/x-python",
   "name": "python",
   "nbconvert_exporter": "python",
   "pygments_lexer": "ipython3",
   "version": "3.7.3"
  }
 },
 "nbformat": 4,
 "nbformat_minor": 2
}
