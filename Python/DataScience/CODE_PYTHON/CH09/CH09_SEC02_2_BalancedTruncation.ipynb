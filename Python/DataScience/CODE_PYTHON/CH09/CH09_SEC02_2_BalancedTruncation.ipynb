{
 "cells": [
  {
   "cell_type": "code",
   "execution_count": 149,
   "metadata": {},
   "outputs": [],
   "source": [
    "import numpy as np\n",
    "import matplotlib.pyplot as plt\n",
    "from matplotlib import rcParams\n",
    "from control.matlab import *\n",
    "import slycot\n",
    "import os\n",
    "from scipy import signal, io\n",
    "from scipy.linalg import fractional_matrix_power\n",
    "\n",
    "# Python control toolbox available at https://python-control.readthedocs.io/\n",
    "\n",
    "plt.rcParams['figure.figsize'] = [8, 8]\n",
    "plt.rcParams.update({'font.size': 18})\n"
   ]
  },
  {
   "cell_type": "code",
   "execution_count": 150,
   "metadata": {},
   "outputs": [],
   "source": [
    "testSys_mat = io.loadmat(os.path.join('..','DATA','testSys_ABCD.mat'))\n",
    "A = testSys_mat['A']\n",
    "B = testSys_mat['B']\n",
    "C = testSys_mat['C']\n",
    "D = testSys_mat['D']\n",
    "\n",
    "sysFull = ss(A,B,C,D,1)\n",
    "r = 10 # Reduced model order"
   ]
  },
  {
   "cell_type": "code",
   "execution_count": 152,
   "metadata": {},
   "outputs": [
    {
     "ename": "ValueError",
     "evalue": "Oops, the system is unstable!",
     "output_type": "error",
     "traceback": [
      "\u001b[1;31m---------------------------------------------------------------------------\u001b[0m",
      "\u001b[1;31mValueError\u001b[0m                                Traceback (most recent call last)",
      "\u001b[1;32m<ipython-input-152-ccc8d3fe306c>\u001b[0m in \u001b[0;36m<module>\u001b[1;34m\u001b[0m\n\u001b[0;32m      4\u001b[0m \u001b[1;31m# hsvs = hsvd(sysFull_stable) # Hankel singular values\u001b[0m\u001b[1;33m\u001b[0m\u001b[1;33m\u001b[0m\u001b[1;33m\u001b[0m\u001b[0m\n\u001b[0;32m      5\u001b[0m \u001b[1;31m# hsvs = hsvd(sysFull)\u001b[0m\u001b[1;33m\u001b[0m\u001b[1;33m\u001b[0m\u001b[1;33m\u001b[0m\u001b[0m\n\u001b[1;32m----> 6\u001b[1;33m \u001b[0mWo\u001b[0m \u001b[1;33m=\u001b[0m \u001b[0mgram\u001b[0m\u001b[1;33m(\u001b[0m\u001b[0msysFull\u001b[0m\u001b[1;33m,\u001b[0m\u001b[1;34m'o'\u001b[0m\u001b[1;33m)\u001b[0m\u001b[1;33m\u001b[0m\u001b[1;33m\u001b[0m\u001b[0m\n\u001b[0m",
      "\u001b[1;32mC:\\ProgramData\\Anaconda3\\lib\\site-packages\\control\\statefbk.py\u001b[0m in \u001b[0;36mgram\u001b[1;34m(sys, type)\u001b[0m\n\u001b[0;32m    482\u001b[0m         \u001b[1;31m# or a method of the StateSpace class?\u001b[0m\u001b[1;33m\u001b[0m\u001b[1;33m\u001b[0m\u001b[1;33m\u001b[0m\u001b[0m\n\u001b[0;32m    483\u001b[0m     \u001b[1;32mif\u001b[0m \u001b[0mnp\u001b[0m\u001b[1;33m.\u001b[0m\u001b[0many\u001b[0m\u001b[1;33m(\u001b[0m\u001b[0mnp\u001b[0m\u001b[1;33m.\u001b[0m\u001b[0mlinalg\u001b[0m\u001b[1;33m.\u001b[0m\u001b[0meigvals\u001b[0m\u001b[1;33m(\u001b[0m\u001b[0msys\u001b[0m\u001b[1;33m.\u001b[0m\u001b[0mA\u001b[0m\u001b[1;33m)\u001b[0m\u001b[1;33m.\u001b[0m\u001b[0mreal\u001b[0m \u001b[1;33m>=\u001b[0m \u001b[1;36m0.0\u001b[0m\u001b[1;33m)\u001b[0m\u001b[1;33m:\u001b[0m\u001b[1;33m\u001b[0m\u001b[1;33m\u001b[0m\u001b[0m\n\u001b[1;32m--> 484\u001b[1;33m         \u001b[1;32mraise\u001b[0m \u001b[0mValueError\u001b[0m\u001b[1;33m(\u001b[0m\u001b[1;34m\"Oops, the system is unstable!\"\u001b[0m\u001b[1;33m)\u001b[0m\u001b[1;33m\u001b[0m\u001b[1;33m\u001b[0m\u001b[0m\n\u001b[0m\u001b[0;32m    485\u001b[0m \u001b[1;33m\u001b[0m\u001b[0m\n\u001b[0;32m    486\u001b[0m     \u001b[1;32mif\u001b[0m \u001b[0mtype\u001b[0m\u001b[1;33m==\u001b[0m\u001b[1;34m'c'\u001b[0m \u001b[1;32mor\u001b[0m \u001b[0mtype\u001b[0m\u001b[1;33m==\u001b[0m\u001b[1;34m'o'\u001b[0m\u001b[1;33m:\u001b[0m\u001b[1;33m\u001b[0m\u001b[1;33m\u001b[0m\u001b[0m\n",
      "\u001b[1;31mValueError\u001b[0m: Oops, the system is unstable!"
     ]
    }
   ],
   "source": [
    "## Plot Hankel Singular Values\n",
    "# n_stable = np.count_nonzero(np.logical_and(np.linalg.eigvals(sysFull.A).real >= 0, np.linalg.eigvals(sysFull.A).real <= 1))\n",
    "# sysFull_stable = balred(sysFull,n_stable,method='truncate',alpha=np.array([0,1])) # This is necessary to remove unstable eigenvalues\n",
    "# hsvs = hsvd(sysFull_stable) # Hankel singular values\n",
    "hsvs = hsvd(sysFull)"
   ]
  },
  {
   "cell_type": "code",
   "execution_count": 63,
   "metadata": {},
   "outputs": [
    {
     "name": "stderr",
     "output_type": "stream",
     "text": [
      "C:\\ProgramData\\Anaconda3\\lib\\site-packages\\slycot\\analysis.py:1036: UserWarning: with ordsel = 'F', the selected order nr is less                than the order of the alpha-unstable part of the                given system. In this case nr is set equal to the                order of the alpha-unstable part.\n",
      "  order of the alpha-unstable part.\")\n"
     ]
    }
   ],
   "source": [
    "# Balanced truncation\n",
    "sysBT = balred(sysFull,r)"
   ]
  },
  {
   "cell_type": "code",
   "execution_count": 143,
   "metadata": {},
   "outputs": [],
   "source": [
    "# Compute BPOD\n",
    "\n",
    "yFull = np.zeros((r*5+2,p,q))\n",
    "xFull = np.zeros((r*5+2,n,q))\n",
    "yAdj = np.zeros_like(yFull)\n",
    "xAdj = np.zeros_like(xFull)\n",
    "\n",
    "sysAdj = ss(sysFull.A.T,sysFull.C.T,sysFull.B.T,sysFull.D.T,1)\n",
    "\n",
    "for qi in range(q):\n",
    "    yFull[:,:,qi],_,xFull[:,:,qi] = impulse(sysFull,T=np.arange(0,(r*5+2),1),input=qi,return_x=True)\n",
    "    yAdj[:,:,qi],_,xAdj[:,:,qi] = impulse(sysAdj,T=np.arange(0,(r*5+2),1),input=qi,return_x=True)\n",
    "\n",
    "\n",
    "# Not the fastest way to compute, but illustrative\n",
    "# Both xAdj and xFull are size (length of t) * (number of states) * (number of inputs)\n",
    "\n",
    "\n",
    "HankelOC = np.zeros((q*(r*5+1),q*(r*5+1)))\n",
    "for i in range(xAdj.shape[0]-1): # start at 1 to avoid the D matrix\n",
    "    for j in range(xFull.shape[0]-1):\n",
    "        Ystar = np.swapaxes(np.squeeze(xAdj[i+1,:,:]),0,1);        \n",
    "        MarkovParameter = Ystar@np.squeeze(xFull[j+1,:,:]);\n",
    "        HankelOC[np.ix_(range(q*i,q*(i+1)),range(q*j,q*(j+1)))] = MarkovParameter\n",
    "\n",
    "U,Sig,VT = np.linalg.svd(HankelOC)\n",
    "Sig = np.diag(Sig)\n",
    "V = VT.T\n",
    "\n",
    "Xdata = np.zeros((n,q*(xFull.shape[0]-1)))\n",
    "Ydata = np.zeros((n,q*(xFull.shape[0]-1)))\n",
    "for i in range(xFull.shape[0]-1):\n",
    "    Xdata[:,range(q*i,q*(i+1))] = xFull[i+1,:,:]\n",
    "    Ydata[:,range(q*i,q*(i+1))] = xAdj[i+1,:,:]\n",
    "    \n",
    "Phi = Xdata @ V @ fractional_matrix_power(Sig,-1/2)\n",
    "Psi = Ydata @ U @ fractional_matrix_power(Sig,-1/2)\n",
    "\n",
    "Ar = Psi[:,:r].T @ sysFull.A @ Phi[:,:r]\n",
    "Br = Psi[:,:r].T @ sysFull.B\n",
    "Cr = sysFull.C @ Phi[:,:r]\n",
    "Dr = sysFull.D\n",
    "\n",
    "sysBPOD = ss(Ar,Br,Cr,Dr,1)"
   ]
  },
  {
   "cell_type": "code",
   "execution_count": 148,
   "metadata": {},
   "outputs": [
    {
     "data": {
      "image/png": "[encoded data removed]",
      "text/plain": [
       "<Figure size 576x576 with 1 Axes>"
      ]
     },
     "metadata": {
      "needs_background": "light"
     },
     "output_type": "display_data"
    }
   ],
   "source": [
    "## Plot impulse responses for all methods\n",
    "yout_full,tout_full = impulse(sysFull,np.arange(0,60,1))\n",
    "yout_BT,tout_BT = impulse(sysBT,np.arange(0,60,1))\n",
    "yout_BPOD,tout_BPOD = impulse(sysBPOD,np.arange(0,60,1))\n",
    "\n",
    "plt.plot(tout_full,yout_full,label='Full model, n=100')\n",
    "plt.plot(tout_BT,yout_BT,label='Balanced truncation, r=10')\n",
    "plt.plot(tout_BPOD,yout_BPOD,label='Balanced POD, r=10')\n",
    "plt.show()"
   ]
  },
  {
   "cell_type": "code",
   "execution_count": null,
   "metadata": {},
   "outputs": [],
   "source": []
  }
 ],
 "metadata": {
  "kernelspec": {
   "display_name": "Python 3",
   "language": "python",
   "name": "python3"
  },
  "language_info": {
   "codemirror_mode": {
    "name": "ipython",
    "version": 3
   },
   "file_extension": ".py",
   "mimetype": "text/x-python",
   "name": "python",
   "nbconvert_exporter": "python",
   "pygments_lexer": "ipython3",
   "version": "3.7.3"
  }
 },
 "nbformat": 4,
 "nbformat_minor": 2
}
