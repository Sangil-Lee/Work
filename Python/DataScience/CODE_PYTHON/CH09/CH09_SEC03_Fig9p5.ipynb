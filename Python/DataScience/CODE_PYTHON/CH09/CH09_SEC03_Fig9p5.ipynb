{
 "cells": [
  {
   "cell_type": "code",
   "execution_count": 1,
   "metadata": {},
   "outputs": [],
   "source": [
    "import numpy as np\n",
    "import matplotlib.pyplot as plt\n",
    "from matplotlib import rcParams\n",
    "from control.matlab import *\n",
    "import slycot\n",
    "from scipy import signal,io\n",
    "import os\n",
    "from scipy.linalg import fractional_matrix_power\n",
    "\n",
    "# Python control toolbox available at https://python-control.readthedocs.io/\n",
    "\n",
    "plt.rcParams['figure.figsize'] = [8, 8]\n",
    "plt.rcParams.update({'font.size': 18})\n"
   ]
  },
  {
   "cell_type": "code",
   "execution_count": 2,
   "metadata": {},
   "outputs": [],
   "source": [
    "q = 2   # Number of inputs\n",
    "p = 2   # Number of outputs\n",
    "n = 100 # State dimension\n",
    "r = 10 # Reduced model order\n",
    "\n",
    "testSys_mat = io.loadmat(os.path.join('..','DATA','testSys_Fig9p5_ABCD.mat'))\n",
    "A = testSys_mat['A']\n",
    "B = testSys_mat['B']\n",
    "C = testSys_mat['C']\n",
    "D = testSys_mat['D']\n",
    "\n",
    "sys = ss(A,B,C,D,1)"
   ]
  },
  {
   "cell_type": "code",
   "execution_count": 25,
   "metadata": {},
   "outputs": [],
   "source": [
    "## Figure 1 = simple impulse response\n",
    "\n",
    "tspan = np.arange(100)\n",
    "y,t = impulse(sys,T=tspan)\n",
    "t = np.concatenate((np.arange(-10,0,1),t))\n",
    "y = np.concatenate((np.zeros((10,1)),y))\n",
    "u = np.zeros_like(y)\n",
    "u[10] = 1"
   ]
  },
  {
   "cell_type": "code",
   "execution_count": 29,
   "metadata": {},
   "outputs": [
    {
     "data": {
      "image/png": "[encoded data removed]",
      "text/plain": [
       "<Figure size 432x288 with 1 Axes>"
      ]
     },
     "metadata": {
      "needs_background": "light"
     },
     "output_type": "display_data"
    }
   ],
   "source": [
    "plt.step(t,u,'k',linewidth=1.5)\n",
    "plt.grid()\n",
    "plt.title('u')\n",
    "plt.show()"
   ]
  },
  {
   "cell_type": "code",
   "execution_count": 30,
   "metadata": {},
   "outputs": [
    {
     "data": {
      "image/png": "[encoded data removed]",
      "text/plain": [
       "<Figure size 432x288 with 1 Axes>"
      ]
     },
     "metadata": {
      "needs_background": "light"
     },
     "output_type": "display_data"
    }
   ],
   "source": [
    "plt.step(t,y,'k',linewidth=1.5)\n",
    "plt.grid()\n",
    "plt.title('y')\n",
    "plt.show()"
   ]
  },
  {
   "cell_type": "code",
   "execution_count": 33,
   "metadata": {},
   "outputs": [],
   "source": [
    "## FIgure 2 - OKID response\n",
    "\n",
    "t = np.arange(100)\n",
    "u = np.zeros_like(t)\n",
    "u[:50] = np.random.randn(50)\n",
    "y,t,_ = lsim(sys,u,t)\n",
    "\n",
    "t = np.concatenate((np.arange(-10,0,1),t))\n",
    "y = np.concatenate((np.zeros((10,1)),y))\n",
    "u = np.concatenate((np.zeros(10),u))"
   ]
  },
  {
   "cell_type": "code",
   "execution_count": 35,
   "metadata": {},
   "outputs": [
    {
     "data": {
      "image/png": "[encoded data removed]",
      "text/plain": [
       "<Figure size 432x288 with 1 Axes>"
      ]
     },
     "metadata": {
      "needs_background": "light"
     },
     "output_type": "display_data"
    }
   ],
   "source": [
    "plt.step(t,u,'k',linewidth=1.5)\n",
    "plt.grid()\n",
    "plt.title('u')\n",
    "plt.show()"
   ]
  },
  {
   "cell_type": "code",
   "execution_count": 36,
   "metadata": {},
   "outputs": [
    {
     "data": {
      "image/png": "[encoded data removed]",
      "text/plain": [
       "<Figure size 432x288 with 1 Axes>"
      ]
     },
     "metadata": {
      "needs_background": "light"
     },
     "output_type": "display_data"
    }
   ],
   "source": [
    "plt.step(t,y,'k',linewidth=1.5)\n",
    "plt.grid()\n",
    "plt.title('y')\n",
    "plt.show()"
   ]
  }
 ],
 "metadata": {
  "kernelspec": {
   "display_name": "Python 3",
   "language": "python",
   "name": "python3"
  },
  "language_info": {
   "codemirror_mode": {
    "name": "ipython",
    "version": 3
   },
   "file_extension": ".py",
   "mimetype": "text/x-python",
   "name": "python",
   "nbconvert_exporter": "python",
   "pygments_lexer": "ipython3",
   "version": "3.7.3"
  }
 },
 "nbformat": 4,
 "nbformat_minor": 2
}
