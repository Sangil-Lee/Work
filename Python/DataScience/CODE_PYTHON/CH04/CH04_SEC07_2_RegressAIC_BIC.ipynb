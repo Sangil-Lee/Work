{
 "cells": [
  {
   "cell_type": "code",
   "execution_count": 13,
   "metadata": {},
   "outputs": [],
   "source": [
    "import numpy as np\n",
    "import matplotlib.pyplot as plt\n",
    "from matplotlib import rcParams\n",
    "from statsmodels.tsa import arima_process, arima_model\n",
    "# Using the StatsModels module available at\n",
    "# https://www.statsmodels.org/dev/install.html\n",
    "\n",
    "\n",
    "rcParams.update({'font.size': 18})\n",
    "plt.rcParams['figure.figsize'] = [12, 12]\n"
   ]
  },
  {
   "cell_type": "code",
   "execution_count": 17,
   "metadata": {},
   "outputs": [
    {
     "name": "stdout",
     "output_type": "stream",
     "text": [
      "AIC: [175.44759775 175.44759775   0.        ]\n",
      "BIC: [180.65793813 180.65793813   0.        ]\n"
     ]
    }
   ],
   "source": [
    "np.random.seed(123) # for random data reproducibility\n",
    "T = 100 # Sample size\n",
    "# DGP = sm.ARIMA(x,order=(0,0,0))\n",
    "# arparams = np.array([.2, 0.5])\n",
    "# maparams = np.array([-4])\n",
    "# arparams = np.r_[1, arparams]\n",
    "\n",
    "arparams = np.array([-4, .2, 0.5])\n",
    "maparams = np.array([1])\n",
    "\n",
    "\n",
    "\n",
    "arma_process = sm.tsa.arima_process.ArmaProcess(arparams, maparams)\n",
    "y = arma_process.generate_sample(T,scale=2)\n",
    "\n",
    "logL = np.zeros(3) # log likelihood vector\n",
    "aic = np.zeros(3)  # AIC vector\n",
    "bic = np.zeros(3)  # BIC vector\n",
    "\n",
    "for j in range(2):\n",
    "    model_res = sm.tsa.arima_model.ARMA(y, (0,0)).fit(trend='c', disp=0,start_ar_lags=j+1,method='mle')\n",
    "    logL[j] = model_res.llf\n",
    "    aic[j] = model_res.aic\n",
    "    bic[j] = model_res.bic\n",
    "\n",
    "print('AIC: {:}'.format(aic))\n",
    "print('BIC: {:}'.format(bic))"
   ]
  },
  {
   "cell_type": "code",
   "execution_count": null,
   "metadata": {},
   "outputs": [],
   "source": []
  }
 ],
 "metadata": {
  "kernelspec": {
   "display_name": "Python 3",
   "language": "python",
   "name": "python3"
  },
  "language_info": {
   "codemirror_mode": {
    "name": "ipython",
    "version": 3
   },
   "file_extension": ".py",
   "mimetype": "text/x-python",
   "name": "python",
   "nbconvert_exporter": "python",
   "pygments_lexer": "ipython3",
   "version": "3.7.3"
  }
 },
 "nbformat": 4,
 "nbformat_minor": 2
}
